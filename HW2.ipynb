{
 "cells": [
  {
   "cell_type": "code",
   "execution_count": 656,
   "metadata": {},
   "outputs": [],
   "source": [
    "import numpy as np\n",
    "import csv\n",
    "from scipy.stats import norm\n",
    "from numpy.linalg import inv\n",
    "import math\n",
    "from matplotlib import pyplot as plt\n",
    "from collections import defaultdict"
   ]
  },
  {
   "cell_type": "code",
   "execution_count": 657,
   "metadata": {},
   "outputs": [],
   "source": [
    "#read the data\n",
    "def readData(data):\n",
    "    user_id = []\n",
    "    movie_id = []\n",
    "    ratings = []\n",
    "\n",
    "    with open(data) as csvfile:\n",
    "        ratingsCsv = csv.reader(csvfile, delimiter = ',')\n",
    "        for line in csvfile:\n",
    "            line0 = int(line.split(',')[0])\n",
    "            line1 = int(line.split(',')[1])\n",
    "            line2 = int(line.split(',')[2])\n",
    "            user_id.append(line0)\n",
    "            movie_id.append(line1)\n",
    "            ratings.append(line2)\n",
    "\n",
    "    return user_id,movie_id,ratings\n"
   ]
  },
  {
   "cell_type": "code",
   "execution_count": 658,
   "metadata": {},
   "outputs": [],
   "source": [
    "def ratMaxtrix(user_idnp,movie_idnp,ratingsnp):\n",
    "    ratMat = np.zeros((np.amax(user_idnp),np.amax(movie_idnp)))\n",
    "    for i in range(np.shape(ratingsnp)[0]):\n",
    "        ratMat[user_idnp[i] - 1,movie_idnp[i] - 1] = ratingsnp[i]\n",
    "    return ratMat"
   ]
  },
  {
   "cell_type": "code",
   "execution_count": 659,
   "metadata": {},
   "outputs": [],
   "source": [
    "def dict_user_movie(user_id,movie_id):\n",
    "    user = defaultdict(list)\n",
    "    for k, v in zip(user_id, movie_id):\n",
    "        user[k].append(v)\n",
    "        \n",
    "    return user"
   ]
  },
  {
   "cell_type": "code",
   "execution_count": 660,
   "metadata": {},
   "outputs": [],
   "source": [
    "def dict_movie_user(user_id,movie_id):\n",
    "    movie = defaultdict(list)\n",
    "    for k, v in zip(movie_id, user_id):\n",
    "        movie[k].append(v)\n",
    "        \n",
    "    return movie"
   ]
  },
  {
   "cell_type": "code",
   "execution_count": 661,
   "metadata": {},
   "outputs": [],
   "source": [
    "#previous t denote pt\n",
    "def calEqfi_t(U_pt,V_pt,ratMat,sigma,user_idnp, movie_idnp):\n",
    "    Eqfi_t = np.zeros ((np.shape(ratMat)))\n",
    "    a = np.dot(U_pt.T,V_pt)\n",
    "    numerator = norm.pdf(-a / 1,0,1)\n",
    "    numerator2 = -norm.pdf(-a / 1,0,1)\n",
    "    denominator = 1 - norm.cdf(-a / 1,0,1)\n",
    "    Eqfi_t1 = a + sigma * numerator / denominator\n",
    "    Eqfi_t2 = a + sigma * numerator2 / denominator\n",
    "    for i in range(np.shape(ratingsnp)[0]):\n",
    "        if int(ratMat[user_idnp[i] - 1,movie_idnp[i] - 1]) == 1:\n",
    "            Eqfi_t[user_idnp[i] - 1,movie_idnp[i] - 1] = Eqfi_t1[user_idnp[i] - 1,movie_idnp[i] - 1]\n",
    "        if int(ratMat[user_idnp[i] - 1,movie_idnp[i] - 1]) == -1:\n",
    "            Eqfi_t[user_idnp[i] - 1,movie_idnp[i] - 1] = Eqfi_t2[user_idnp[i] - 1,movie_idnp[i] - 1]\n",
    "    \n",
    "    return Eqfi_t\n"
   ]
  },
  {
   "cell_type": "code",
   "execution_count": 797,
   "metadata": {},
   "outputs": [],
   "source": [
    "#M step\n",
    "def updateU(Eqfi_pt,U_pt,V_pt,ratMat,c,d,sigma,user_idnp,movie_idnp,user):\n",
    "    U_t = np.zeros(np.shape(U_pt))\n",
    "    for i in range(np.shape(ratMat)[0]):    \n",
    "        #  a list of user i with the movies\n",
    "        V_vec = np.zeros((d,1))\n",
    "        useri = np.array(user[i + 1]) - 1\n",
    "        VVT = np.dot(V_pt[:,useri],V_pt[:,useri].T)\n",
    "        VVT = VVT / sigma ** 2 + 1 * c * np.identity(d)\n",
    "        inverse = inv(VVT)\n",
    "        for j in user[i + 1]:\n",
    "            V_vec = V_vec + V_pt[::1,j - 1:j:1] * Eqfi_t[i,j-1]\n",
    "        U_t[:,i] = np.dot(inverse,V_vec.reshape(d,1)).flatten()\n",
    "    return U_t\n",
    "                \n",
    "            \n",
    "def updateV(Eqfi_pt,U_pt,V_pt,ratMat,c,d,sigma,user_idnp,movie_idnp,movie):\n",
    "    #UUT = calUUT(U_pt,user_idnp,movie_idnp,ratMat,sigma,c,d)\n",
    "    V_t = np.zeros(np.shape(V_pt))\n",
    "    for i in range(np.shape(ratMat)[1]):\n",
    "        U_vec = np.zeros((d,1))\n",
    "        moviei = np.array(movie[i + 1]) - 1\n",
    "        moviei = moviei.astype(int)\n",
    "        UUT = np.dot(U_pt[:,moviei],U_pt[:,moviei].T)\n",
    "        UUT = UUT / sigma ** 2 + 1 * c * np.identity(d)\n",
    "        inverse = inv(UUT)\n",
    "        for j in movie[i + 1]:\n",
    "            U_vec = U_vec + U_pt[::1,j - 1:j:1] * Eqfi_t[j - 1,i]\n",
    "        V_t[:,i] = np.dot(inverse,U_vec.reshape(d,1)).flatten()\n",
    "    return V_t"
   ]
  },
  {
   "cell_type": "code",
   "execution_count": 684,
   "metadata": {},
   "outputs": [],
   "source": [
    "def calLnlikeli(U,V,simga,user_idnp,movie_idnp,ratMat,ratingsnp,c):\n",
    "    a = np.zeros(np.shape(ratMat)) / sigma\n",
    "    b = np.dot(U.T,V)\n",
    "    a1 = np.log(norm.cdf(b,0,1))\n",
    "    a2 = 1 - np.log(norm.cdf(b,0,1))\n",
    "    n,m = np.shape(ratMat)\n",
    "    d = np.shape(U)[0]\n",
    "    lnlikeli = 0\n",
    "    UTU = np.zeros(n)\n",
    "    VTV = np.zeros(m)\n",
    "    for i in range(np.shape(user_idnp)[0]):\n",
    "        if ratingsnp[i] == 1:\n",
    "            lnlikeli = lnlikeli + a1[user_idnp[i] - 1, movie_idnp[i] - 1]\n",
    "        if ratingsnp[i] == -1:\n",
    "            lnlikeli = lnlikeli + a2[user_idnp[i] - 1, movie_idnp[i] - 1]\n",
    "    for i1 in range(n):\n",
    "        UTU[i1] = np.dot(U[:,i1].T,U[:,i1])\n",
    "    for j1 in range(m):\n",
    "        VTV[j1] = np.dot(V[:,j1].T,V[:,j1])\n",
    "         \n",
    "    lnlikeli - 1/(2 * c) * (np.sum(UTU) + np.sum(VTV)) - (n+m) * d * math.log(2 * math.pi * c)\n",
    "    return lnlikeli\n",
    "    "
   ]
  },
  {
   "cell_type": "code",
   "execution_count": 664,
   "metadata": {},
   "outputs": [],
   "source": [
    "#load data\n",
    "data = 'ratings.csv'\n",
    "user_id, movie_id, ratings = readData(data)"
   ]
  },
  {
   "cell_type": "code",
   "execution_count": 665,
   "metadata": {
    "scrolled": false
   },
   "outputs": [],
   "source": [
    "#put everything into numpy\n",
    "user_idnp = np.array(user_id)\n",
    "movie_idnp = np.array(movie_id)\n",
    "ratingsnp = np.array(ratings)\n",
    "ratMat = ratMaxtrix(user_idnp,movie_idnp,ratingsnp)"
   ]
  },
  {
   "cell_type": "code",
   "execution_count": 666,
   "metadata": {},
   "outputs": [],
   "source": [
    "#initialize U and V and parameters\n",
    "d = 5\n",
    "c = 1\n",
    "sigma = 1\n",
    "mean = np.zeros(d)\n",
    "coVar = np.identity(d) * 0.1\n",
    "loglike = np.zeros(100)\n",
    "user = dict_user_movie(user_id,movie_id)\n",
    "movie = dict_movie_user(user_id,movie_id)\n",
    "U = np.random.multivariate_normal(mean,coVar,np.amax(user_idnp)).T\n",
    "V = np.random.multivariate_normal(mean,coVar,np.amax(movie_idnp)).T\n",
    "Eqfi_t = calEqfi_t(U,V,ratMat,sigma,user_idnp, movie_idnp)"
   ]
  },
  {
   "cell_type": "code",
   "execution_count": 651,
   "metadata": {
    "scrolled": false
   },
   "outputs": [
    {
     "ename": "IndexError",
     "evalue": "arrays used as indices must be of integer (or boolean) type",
     "output_type": "error",
     "traceback": [
      "\u001b[0;31m---------------------------------------------------------------------------\u001b[0m",
      "\u001b[0;31mIndexError\u001b[0m                                Traceback (most recent call last)",
      "\u001b[0;32m<ipython-input-651-21d8a2b5d2cf>\u001b[0m in \u001b[0;36m<module>\u001b[0;34m()\u001b[0m\n\u001b[1;32m      1\u001b[0m \u001b[0muser\u001b[0m\u001b[0;34m[\u001b[0m\u001b[0muser_idnp\u001b[0m\u001b[0;34m[\u001b[0m\u001b[0;36m1\u001b[0m\u001b[0;34m]\u001b[0m\u001b[0;34m]\u001b[0m\u001b[0;34m\u001b[0m\u001b[0m\n\u001b[0;32m----> 2\u001b[0;31m \u001b[0mU\u001b[0m \u001b[0;34m=\u001b[0m \u001b[0mupdateU\u001b[0m\u001b[0;34m(\u001b[0m\u001b[0mEqfi_t\u001b[0m\u001b[0;34m,\u001b[0m\u001b[0mU\u001b[0m\u001b[0;34m,\u001b[0m\u001b[0mV\u001b[0m\u001b[0;34m,\u001b[0m\u001b[0mratMat\u001b[0m\u001b[0;34m,\u001b[0m\u001b[0mc\u001b[0m\u001b[0;34m,\u001b[0m\u001b[0md\u001b[0m\u001b[0;34m,\u001b[0m\u001b[0msigma\u001b[0m\u001b[0;34m,\u001b[0m\u001b[0muser_idnp\u001b[0m\u001b[0;34m,\u001b[0m\u001b[0mmovie_idnp\u001b[0m\u001b[0;34m,\u001b[0m\u001b[0muser\u001b[0m\u001b[0;34m)\u001b[0m\u001b[0;34m\u001b[0m\u001b[0m\n\u001b[0m\u001b[1;32m      3\u001b[0m \u001b[0;31m#V = updateV(Eqfi_t,U,V,ratMat,c,d,sigma,user_idnp,movie_idnp,movie)\u001b[0m\u001b[0;34m\u001b[0m\u001b[0;34m\u001b[0m\u001b[0m\n",
      "\u001b[0;32m<ipython-input-650-ddfec0811e0a>\u001b[0m in \u001b[0;36mupdateU\u001b[0;34m(Eqfi_pt, U_pt, V_pt, ratMat, c, d, sigma, user_idnp, movie_idnp, user)\u001b[0m\n\u001b[1;32m      7\u001b[0m         \u001b[0mU_vec\u001b[0m \u001b[0;34m=\u001b[0m \u001b[0;34m[\u001b[0m\u001b[0;34m]\u001b[0m\u001b[0;34m\u001b[0m\u001b[0m\n\u001b[1;32m      8\u001b[0m         \u001b[0museri\u001b[0m \u001b[0;34m=\u001b[0m \u001b[0mnp\u001b[0m\u001b[0;34m.\u001b[0m\u001b[0marray\u001b[0m\u001b[0;34m(\u001b[0m\u001b[0muser\u001b[0m\u001b[0;34m[\u001b[0m\u001b[0mi\u001b[0m\u001b[0;34m]\u001b[0m\u001b[0;34m)\u001b[0m \u001b[0;34m-\u001b[0m \u001b[0;36m1\u001b[0m\u001b[0;34m\u001b[0m\u001b[0m\n\u001b[0;32m----> 9\u001b[0;31m         \u001b[0mVVT\u001b[0m \u001b[0;34m=\u001b[0m \u001b[0mnp\u001b[0m\u001b[0;34m.\u001b[0m\u001b[0mdot\u001b[0m\u001b[0;34m(\u001b[0m\u001b[0mV_pt\u001b[0m\u001b[0;34m[\u001b[0m\u001b[0;34m:\u001b[0m\u001b[0;34m,\u001b[0m\u001b[0museri\u001b[0m\u001b[0;34m]\u001b[0m\u001b[0;34m,\u001b[0m\u001b[0mV_pt\u001b[0m\u001b[0;34m[\u001b[0m\u001b[0;34m:\u001b[0m\u001b[0;34m,\u001b[0m\u001b[0museri\u001b[0m\u001b[0;34m]\u001b[0m\u001b[0;34m.\u001b[0m\u001b[0mT\u001b[0m\u001b[0;34m)\u001b[0m\u001b[0;34m\u001b[0m\u001b[0m\n\u001b[0m\u001b[1;32m     10\u001b[0m         \u001b[0mVVT\u001b[0m \u001b[0;34m=\u001b[0m \u001b[0mVVT\u001b[0m \u001b[0;34m/\u001b[0m \u001b[0msigma\u001b[0m \u001b[0;34m**\u001b[0m \u001b[0;36m2\u001b[0m \u001b[0;34m+\u001b[0m \u001b[0;36m1\u001b[0m \u001b[0;34m*\u001b[0m \u001b[0mc\u001b[0m \u001b[0;34m*\u001b[0m \u001b[0mnp\u001b[0m\u001b[0;34m.\u001b[0m\u001b[0midentity\u001b[0m\u001b[0;34m(\u001b[0m\u001b[0;36m5\u001b[0m\u001b[0;34m)\u001b[0m\u001b[0;34m\u001b[0m\u001b[0m\n\u001b[1;32m     11\u001b[0m         \u001b[0minverse\u001b[0m \u001b[0;34m=\u001b[0m \u001b[0minv\u001b[0m\u001b[0;34m(\u001b[0m\u001b[0mVVT\u001b[0m\u001b[0;34m)\u001b[0m\u001b[0;34m\u001b[0m\u001b[0m\n",
      "\u001b[0;31mIndexError\u001b[0m: arrays used as indices must be of integer (or boolean) type"
     ]
    }
   ],
   "source": [
    "U = updateU(Eqfi_t,U,V,ratMat,c,d,sigma,user_idnp,movie_idnp,user)\n",
    "#V = updateV(Eqfi_t,U,V,ratMat,c,d,sigma,user_idnp,movie_idnp,movie)"
   ]
  },
  {
   "cell_type": "code",
   "execution_count": 514,
   "metadata": {},
   "outputs": [],
   "source": [
    "#iteration\n",
    "for i in range(100): \n",
    "    Eqfi_t = calEqfi_t(U,V,ratMat,sigma,user_idnp, movie_idnp)\n",
    "    U = updateU(Eqfi_t,U,V,ratMat,c,d,sigma,user_idnp,movie_idnp)\n",
    "    V = updateV(Eqfi_t,U,V,ratMat,c,d,sigma,user_idnp,movie_idnp)\n",
    "    loglike[i] = calLnlikeli(U,V,simga,user_idnp,movie_idnp,ratMat,ratingsnp,c)"
   ]
  },
  {
   "cell_type": "code",
   "execution_count": 515,
   "metadata": {},
   "outputs": [
    {
     "data": {
      "text/plain": [
       "<matplotlib.collections.PathCollection at 0x113926438>"
      ]
     },
     "execution_count": 515,
     "metadata": {},
     "output_type": "execute_result"
    },
    {
     "data": {
      "image/png": "[encoded data removed]",
      "text/plain": [
       "<Figure size 432x288 with 1 Axes>"
      ]
     },
     "metadata": {},
     "output_type": "display_data"
    }
   ],
   "source": [
    "#question 1 plot\n",
    "i = np.asarray([i for i in range(100)])\n",
    "plt.scatter(i,loglike,label='hahaha', color = 'k', marker='*', s = 1000)"
   ]
  },
  {
   "cell_type": "code",
   "execution_count": 785,
   "metadata": {},
   "outputs": [
    {
     "data": {
      "text/plain": [
       "int"
      ]
     },
     "execution_count": 785,
     "metadata": {},
     "output_type": "execute_result"
    }
   ],
   "source": [
    "type(movie[1][0])"
   ]
  },
  {
   "cell_type": "code",
   "execution_count": null,
   "metadata": {},
   "outputs": [],
   "source": []
  },
  {
   "cell_type": "code",
   "execution_count": null,
   "metadata": {},
   "outputs": [],
   "source": []
  },
  {
   "cell_type": "code",
   "execution_count": null,
   "metadata": {},
   "outputs": [],
   "source": []
  },
  {
   "cell_type": "code",
   "execution_count": null,
   "metadata": {},
   "outputs": [],
   "source": []
  },
  {
   "cell_type": "code",
   "execution_count": 574,
   "metadata": {},
   "outputs": [
    {
     "data": {
      "text/plain": [
       "array([[36, 47,  8, 27, 36, 20, 28, 17,  1, 39],\n",
       "       [43, 36, 37, 14, 22, 18, 14,  0, 48, 23],\n",
       "       [12, 47,  4, 17, 31, 21, 26, 22,  4, 16],\n",
       "       [42, 12, 38, 39, 36, 39, 34, 13, 37, 42],\n",
       "       [44, 13, 17, 23, 11, 30, 43, 25, 44, 25],\n",
       "       [20, 31, 31, 39,  2, 38, 24, 41, 17, 43],\n",
       "       [16, 26,  8, 12,  6,  1,  7, 36, 30, 13],\n",
       "       [21, 17, 22, 42, 32, 19,  9,  8, 40,  0],\n",
       "       [37, 49, 15, 25, 21,  3, 28,  0, 43,  4],\n",
       "       [13, 43, 36, 30, 34, 13,  7, 34, 46, 46]])"
      ]
     },
     "execution_count": 574,
     "metadata": {},
     "output_type": "execute_result"
    }
   ],
   "source": [
    "dic = defaultdict(list)\n",
    "for k, v in zip(user_id, movie_id):\n",
    "    dic[k].append(v)\n",
    "\n",
    "a = np.random.randint(0,50,(10,10))\n"
   ]
  },
  {
   "cell_type": "code",
   "execution_count": null,
   "metadata": {},
   "outputs": [],
   "source": []
  }
 ],
 "metadata": {
  "kernelspec": {
   "display_name": "Python 3",
   "language": "python",
   "name": "python3"
  },
  "language_info": {
   "codemirror_mode": {
    "name": "ipython",
    "version": 3
   },
   "file_extension": ".py",
   "mimetype": "text/x-python",
   "name": "python",
   "nbconvert_exporter": "python",
   "pygments_lexer": "ipython3",
   "version": "3.6.5"
  }
 },
 "nbformat": 4,
 "nbformat_minor": 2
}
