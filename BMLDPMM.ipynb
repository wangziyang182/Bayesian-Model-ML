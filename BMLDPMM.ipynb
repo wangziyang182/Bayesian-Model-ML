{
 "cells": [
  {
   "cell_type": "code",
   "execution_count": 62,
   "metadata": {},
   "outputs": [],
   "source": [
    "import numpy as np\n",
    "from matplotlib import pyplot as plt\n",
    "from scipy.stats import binom\n",
    "from matplotlib.ticker import MaxNLocator\n",
    "from scipy.special import digamma\n",
    "from scipy.special import gamma\n",
    "from scipy.special import gammaln\n",
    "% matplotlib inline"
   ]
  },
  {
   "cell_type": "markdown",
   "metadata": {},
   "source": [
    "### Q1"
   ]
  },
  {
   "cell_type": "code",
   "execution_count": 164,
   "metadata": {},
   "outputs": [],
   "source": [
    "def calPHI(x,theta,pi):\n",
    "    Binom_Matrix = binom.pmf(x,20,theta).T * pi.T\n",
    "    Binom_Vector = np.sum(Binom_Matrix,axis = 1).reshape((x.shape[0],1))\n",
    "    PHI = Binom_Matrix/Binom_Vector\n",
    "    \n",
    "    return PHI"
   ]
  },
  {
   "cell_type": "code",
   "execution_count": 165,
   "metadata": {},
   "outputs": [],
   "source": [
    "def update_n(PHI):\n",
    "    return np.sum(PHI,axis = 0).T"
   ]
  },
  {
   "cell_type": "code",
   "execution_count": 166,
   "metadata": {},
   "outputs": [],
   "source": [
    "def update_theta(PHI,x):\n",
    "    \n",
    "    return (np.sum(PHI * x.reshape((x.shape[0],1)),axis = 0)/(20 * np.sum(PHI,axis = 0))).reshape((PHI.shape[1],1))\n",
    "    "
   ]
  },
  {
   "cell_type": "code",
   "execution_count": 167,
   "metadata": {},
   "outputs": [],
   "source": [
    "def update_pi(n,x):\n",
    "    return  n / x.shape[0]"
   ]
  },
  {
   "cell_type": "code",
   "execution_count": 168,
   "metadata": {},
   "outputs": [],
   "source": [
    "def jointlikelihood(x,PHI,theta,pi):\n",
    "    result = 0\n",
    "    for i in range(x.shape[0]):\n",
    "        for j in range(theta.shape[0]):\n",
    "            result += PHI[i][j]*(x[i] * np.log(theta[j]) + (20 - x[i])*np.log(1-theta[j]) + np.log(pi[j]))\n",
    "    return result"
   ]
  },
  {
   "cell_type": "code",
   "execution_count": 169,
   "metadata": {},
   "outputs": [],
   "source": [
    "def EM(x,theta,pi,t,K):\n",
    "    likelihood = np.zeros(t)\n",
    "    for i in range(t):\n",
    "        PHI = calPHI(x,theta,pi).reshape(x.shape[0],K)\n",
    "        n = update_n(PHI)\n",
    "        theta = update_theta(PHI,x).reshape(K,1)\n",
    "        pi = update_pi(n,x).reshape(K,1)\n",
    "        likelihood[i] = jointlikelihood(x,PHI,theta,pi)\n",
    "        \n",
    "    return theta,pi,likelihood,PHI"
   ]
  },
  {
   "cell_type": "code",
   "execution_count": 170,
   "metadata": {},
   "outputs": [],
   "source": [
    "x = np.genfromtxt(\"X.csv\")"
   ]
  },
  {
   "cell_type": "code",
   "execution_count": 171,
   "metadata": {},
   "outputs": [],
   "source": [
    "K = 3\n",
    "theta = np.array([[0.1,0.5,0.4]]).T\n",
    "pi = np.zeros((K,1)) + 1/K\n",
    "t = 50\n",
    "\n",
    "theta1,pi1,likelihood1,PHI1 = EM(x,theta,pi,t,K)"
   ]
  },
  {
   "cell_type": "code",
   "execution_count": 172,
   "metadata": {},
   "outputs": [],
   "source": [
    "K = 9\n",
    "theta = np.array([[i * 0.08 for i in range(1,K+1)]]).T\n",
    "pi = np.zeros((K,1)) + 1/K\n",
    "t = 50\n",
    "\n",
    "theta2,pi2,likelihood2,PHI2 = EM(x,theta,pi,t,K)"
   ]
  },
  {
   "cell_type": "code",
   "execution_count": 173,
   "metadata": {},
   "outputs": [],
   "source": [
    "K = 15\n",
    "theta = np.array([[i * 0.05 for i in range(1,K + 1)]]).T\n",
    "pi = np.zeros((K,1)) + 1/K\n",
    "t = 50\n",
    "\n",
    "theta3,pi3,likelihood3,PHI3 = EM(x,theta,pi,t,K)"
   ]
  },
  {
   "cell_type": "markdown",
   "metadata": {},
   "source": [
    "### b)"
   ]
  },
  {
   "cell_type": "code",
   "execution_count": 174,
   "metadata": {},
   "outputs": [
    {
     "data": {
      "text/plain": [
       "<matplotlib.legend.Legend at 0x1a226ad7f0>"
      ]
     },
     "execution_count": 174,
     "metadata": {},
     "output_type": "execute_result"
    },
    {
     "data": {
      "image/png": "[encoded data removed]",
      "text/plain": [
       "<Figure size 432x288 with 1 Axes>"
      ]
     },
     "metadata": {},
     "output_type": "display_data"
    }
   ],
   "source": [
    "plt.plot(range(1,50),likelihood1[1:50],c = \"r\",label  = \"K=3\")\n",
    "plt.plot(range(1,50),likelihood2[1:50],c = \"b\",label  = \"K=9\")\n",
    "plt.plot(range(1,50),likelihood3[1:50],c = \"y\",label  = \"K=15\")\n",
    "plt.xlabel(\"iteration\")\n",
    "plt.ylabel(\"lilkelihood\")\n",
    "plt.title(\"likelihood V.S. iteration\")\n",
    "plt.legend()"
   ]
  },
  {
   "cell_type": "markdown",
   "metadata": {},
   "source": [
    "### c)"
   ]
  },
  {
   "cell_type": "code",
   "execution_count": 175,
   "metadata": {},
   "outputs": [],
   "source": [
    "K = 3\n",
    "Clusters1 = [[0 for i in range(K)] for i in range(21)]\n",
    "for j in range(1,21):\n",
    "    for i in range(x.shape[0]):\n",
    "        if int(x[i]) == j:\n",
    "            Clusters1[j][np.argmax(PHI1[i,:])] += 1\n",
    "for i in range(len(Clusters1)):\n",
    "    Clusters1[i] = np.argmax(Clusters1[i]) + 1"
   ]
  },
  {
   "cell_type": "code",
   "execution_count": 176,
   "metadata": {},
   "outputs": [
    {
     "data": {
      "text/plain": [
       "Text(0.5,1,'Clusters v.s. xi, K = 3')"
      ]
     },
     "execution_count": 176,
     "metadata": {},
     "output_type": "execute_result"
    },
    {
     "data": {
      "image/png": "[encoded data removed]",
      "text/plain": [
       "<Figure size 432x288 with 1 Axes>"
      ]
     },
     "metadata": {},
     "output_type": "display_data"
    }
   ],
   "source": [
    "ax = plt.figure().gca()\n",
    "ax.xaxis.set_major_locator(MaxNLocator(integer=True))\n",
    "ax.yaxis.set_major_locator(MaxNLocator(integer=True))\n",
    "plt.scatter(range(0,21),Clusters1)\n",
    "plt.xlabel(\"xi\")\n",
    "plt.ylabel(\"Clusters\")\n",
    "plt.title(\"Clusters v.s. xi, K = 3\")"
   ]
  },
  {
   "cell_type": "code",
   "execution_count": 194,
   "metadata": {},
   "outputs": [],
   "source": [
    "K = 9\n",
    "Clusters2 = [[0 for i in range(K)] for i in range(21)]\n",
    "for j in range(0,21):\n",
    "    for i in range(x.shape[0]):\n",
    "        if int(x[i]) == j:\n",
    "            Clusters2[j][np.argmax(PHI2[i,:])] += 1\n",
    "for i in range(len(Clusters2)):\n",
    "    Clusters2[i] = np.argmax(Clusters2[i]) + 1"
   ]
  },
  {
   "cell_type": "code",
   "execution_count": 196,
   "metadata": {},
   "outputs": [
    {
     "data": {
      "text/plain": [
       "Text(0.5,1,'Clusters v.s. xi,k = 9')"
      ]
     },
     "execution_count": 196,
     "metadata": {},
     "output_type": "execute_result"
    },
    {
     "data": {
      "image/png": "[encoded data removed]",
      "text/plain": [
       "<Figure size 432x288 with 1 Axes>"
      ]
     },
     "metadata": {},
     "output_type": "display_data"
    }
   ],
   "source": [
    "ax = plt.figure().gca()\n",
    "ax.xaxis.set_major_locator(MaxNLocator(integer=True))\n",
    "ax.yaxis.set_major_locator(MaxNLocator(integer=True))\n",
    "plt.scatter(range(0,21),Clusters2)\n",
    "plt.xlabel(\"xi\")\n",
    "plt.ylabel(\"Clusters\")\n",
    "plt.title(\"Clusters v.s. xi,k = 9\")"
   ]
  },
  {
   "cell_type": "code",
   "execution_count": 192,
   "metadata": {},
   "outputs": [],
   "source": [
    "K = 15\n",
    "Clusters3 = [[0 for i in range(K)] for i in range(21)]\n",
    "for j in range(0,21):\n",
    "    for i in range(x.shape[0]):\n",
    "        if int(x[i]) == j:\n",
    "            Clusters3[j][np.argmax(PHI3[i,:])] += 1\n",
    "for i in range(len(Clusters3)):\n",
    "    Clusters3[i] = np.argmax(Clusters3[i]) + 1"
   ]
  },
  {
   "cell_type": "code",
   "execution_count": 193,
   "metadata": {},
   "outputs": [
    {
     "data": {
      "text/plain": [
       "Text(0.5,1,'Clusters v.s. xi, K = 15')"
      ]
     },
     "execution_count": 193,
     "metadata": {},
     "output_type": "execute_result"
    },
    {
     "data": {
      "image/png": "[encoded data removed]",
      "text/plain": [
       "<Figure size 432x288 with 1 Axes>"
      ]
     },
     "metadata": {},
     "output_type": "display_data"
    }
   ],
   "source": [
    "ax = plt.figure().gca()\n",
    "ax.xaxis.set_major_locator(MaxNLocator(integer=True))\n",
    "ax.yaxis.set_major_locator(MaxNLocator(integer=True))\n",
    "plt.scatter(range(0,21),Clusters3)\n",
    "plt.xlabel(\"xi\")\n",
    "plt.ylabel(\"Clusters\")\n",
    "plt.title(\"Clusters v.s. xi, K = 15\")"
   ]
  },
  {
   "cell_type": "markdown",
   "metadata": {},
   "source": [
    "### 2)"
   ]
  },
  {
   "cell_type": "code",
   "execution_count": 200,
   "metadata": {},
   "outputs": [],
   "source": [
    "def E_PI(alpha_vec):\n",
    "    \n",
    "    return digamma(alpha_vec) - digamma(np.sum(alpha_vec,axis = 0))"
   ]
  },
  {
   "cell_type": "code",
   "execution_count": 201,
   "metadata": {},
   "outputs": [],
   "source": [
    "def E_lnTheta(a_vec,b_vec):\n",
    "    \n",
    "    return digamma(a_vec) - digamma(a_vec + b_vec)"
   ]
  },
  {
   "cell_type": "code",
   "execution_count": 202,
   "metadata": {},
   "outputs": [],
   "source": [
    "def E_lnOne_Min_Theta(a_vec,b_vec):\n",
    "    \n",
    "    return digamma(b_vec) - digamma(a_vec + b_vec)"
   ]
  },
  {
   "cell_type": "code",
   "execution_count": 203,
   "metadata": {},
   "outputs": [],
   "source": [
    "def updatePHI(a_vec,b_vec,alpha_vec,x):\n",
    "    e_PI = E_PI(alpha_vec)\n",
    "    e_lnTheta = E_lnTheta(a_vec,b_vec)\n",
    "    e_lnOne_Min_Theta = E_lnOne_Min_Theta(a_vec,b_vec)\n",
    "    numerator = np.exp(x * e_lnTheta.T + (20 - x) * e_lnOne_Min_Theta.T + e_PI.T)\n",
    "    denominator = np.sum(numerator,axis = 1).reshape((x.shape[0],1))\n",
    "\n",
    "    return numerator / denominator"
   ]
  },
  {
   "cell_type": "code",
   "execution_count": 204,
   "metadata": {},
   "outputs": [],
   "source": [
    "def update_N(PHI):\n",
    "    \n",
    "    return np.sum(PHI,axis = 0).reshape((PHI.shape[1],1))"
   ]
  },
  {
   "cell_type": "code",
   "execution_count": 205,
   "metadata": {},
   "outputs": [],
   "source": [
    "def update_PI(alpha_vec,N):\n",
    "    \n",
    "    return alpha_vec + N"
   ]
  },
  {
   "cell_type": "code",
   "execution_count": 206,
   "metadata": {},
   "outputs": [],
   "source": [
    "def update_theta(x,a0,b0,PHI):\n",
    "    a_vecc = a0 + np.sum(x* PHI,axis = 0).reshape((PHI.shape[1],1))\n",
    "    b_vecc = b0 + np.sum((20 - x) * PHI, axis = 0).reshape((PHI.shape[1],1))\n",
    "    \n",
    "    return a_vecc,b_vecc"
   ]
  },
  {
   "cell_type": "code",
   "execution_count": 207,
   "metadata": {},
   "outputs": [],
   "source": [
    "def first_term(PHI,x,e_lnTheta,e_lnOne_Min_Theta):\n",
    "    first = np.sum(x * PHI.dot(e_lnTheta),axis = 0)\n",
    "    second = np.sum((20 - x) * PHI.dot(e_lnOne_Min_Theta),axis = 0)\n",
    "    \n",
    "    return (first + second)[0]"
   ]
  },
  {
   "cell_type": "code",
   "execution_count": 208,
   "metadata": {},
   "outputs": [],
   "source": [
    "def second_term(PHI,e_PI):\n",
    "    \n",
    "    return np.sum(PHI.dot(e_PI),axis = 0)[0]"
   ]
  },
  {
   "cell_type": "code",
   "execution_count": 209,
   "metadata": {},
   "outputs": [],
   "source": [
    "def thrid_term(a0,b0,e_lnTheta,e_lnOne_Min_Theta):\n",
    "    term = gammaln(a0 + b0) - gammaln(a0) - gammaln(b0) + (a0 - 1) * \\\n",
    "    e_lnTheta + (b0 - 1) * e_lnOne_Min_Theta\n",
    "    \n",
    "    return np.sum(term,axis = 0)[0]"
   ]
  },
  {
   "cell_type": "code",
   "execution_count": 210,
   "metadata": {},
   "outputs": [],
   "source": [
    "def fourth_term(alpha_0, e_PI):\n",
    "    a = gammaln(np.sum(alpha_0))\n",
    "    b = np.sum(gammaln(alpha_0),axis = 0)\n",
    "    c = np.sum(e_PI * (alpha0 - 1),axis = 0)\n",
    "    \n",
    "    return (a - b + c)[0]"
   ]
  },
  {
   "cell_type": "code",
   "execution_count": 211,
   "metadata": {},
   "outputs": [],
   "source": [
    "def fifth_term(alpha_vec, e_PI):\n",
    "    a = gammaln(np.sum(alpha_vec))\n",
    "    b = np.sum(gammaln(alpha_vec),axis = 0)\n",
    "    c = np.sum(e_PI * (alpha_vec - 1),axis = 0)\n",
    "    \n",
    "    return (a - b + c)[0]"
   ]
  },
  {
   "cell_type": "code",
   "execution_count": 212,
   "metadata": {},
   "outputs": [],
   "source": [
    "def sixth_term(PHI):\n",
    "    \n",
    "    return np.sum(np.sum(PHI*np.log(PHI),axis = 0),axis = 0)"
   ]
  },
  {
   "cell_type": "code",
   "execution_count": 213,
   "metadata": {},
   "outputs": [],
   "source": [
    "def seventh_term(a_vec,b_vec,e_lnTheta,e_lnOne_Min_Theta):\n",
    "    item  = (a_vec - 1) * e_lnTheta + (b_vec - 1) * e_lnOne_Min_Theta + gammaln(a_vec + b_vec) - \\\n",
    "    gammaln(a_vec)-gammaln(b_vec)\n",
    "    return np.sum(item)"
   ]
  },
  {
   "cell_type": "code",
   "execution_count": 214,
   "metadata": {},
   "outputs": [],
   "source": [
    "def VI(x,a0,b0,alpha0,a_vec,b_vec,alpha_vec,t):\n",
    "    objective = []\n",
    "    PHI = np.random.random((x.shape[0],a_vec.shape[0]))\n",
    "    for i in range(t):\n",
    "\n",
    "        N = update_N(PHI)\n",
    "        alpha_vec = update_PI(alpha0,N)\n",
    "        a_vec,b_vec = update_theta(x,a_vec,b_vec,PHI)\n",
    "        \n",
    "        e_PI = E_PI(alpha_vec)\n",
    "        e_lnTheta = E_lnTheta(a_vec,b_vec)\n",
    "        e_lnOne_Min_Theta = E_lnOne_Min_Theta(a_vec,b_vec)\n",
    "        PHI = updatePHI(a_vec,b_vec,alpha_vec,x)\n",
    "        \n",
    "        first = first_term(PHI,x,e_lnTheta,e_lnOne_Min_Theta)\n",
    "        second = second_term(PHI,e_PI)\n",
    "        third = thrid_term(a0,b0,e_lnTheta,e_lnOne_Min_Theta)\n",
    "        fourth = fourth_term(alpha0, e_PI)\n",
    "        fifth = fifth_term(alpha_vec, e_PI)\n",
    "        sixth = sixth_term(PHI)\n",
    "        seventh = seventh_term(a_vec,b_vec,e_lnTheta,e_lnOne_Min_Theta)\n",
    "        \n",
    "        \n",
    "        objective.append(first + second + third + fourth - fifth - sixth - seventh)\n",
    "        \n",
    "        \n",
    "    return PHI,N,alpha_vec,a_vec,b_vec,objective"
   ]
  },
  {
   "cell_type": "markdown",
   "metadata": {},
   "source": [
    "### b)"
   ]
  },
  {
   "cell_type": "code",
   "execution_count": 215,
   "metadata": {
    "scrolled": true
   },
   "outputs": [],
   "source": [
    "K = 3\n",
    "x = x.reshape((x.shape[0],1))\n",
    "t = 1000\n",
    "\n",
    "alpha_vec = np.ones((K,1))*0.1\n",
    "alpha0 = np.ones((K,1))*0.1\n",
    "a_vec = np.ones((K,1))*0.5\n",
    "b_vec= np.ones((K,1))*0.5\n",
    "a0 = 0.5\n",
    "b0 = 0.5\n",
    "\n",
    "PHI1,N1,alpha_vec1,a_vec1,b_vec1,objective1 =VI(x,a0,b0,alpha0,a_vec,b_vec,alpha_vec,t)"
   ]
  },
  {
   "cell_type": "code",
   "execution_count": 216,
   "metadata": {},
   "outputs": [],
   "source": [
    "K = 15\n",
    "x = x.reshape((x.shape[0],1))\n",
    "t = 1000\n",
    "\n",
    "alpha_vec = np.ones((K,1))*0.1\n",
    "alpha0 = np.ones((K,1))*0.1\n",
    "a_vec = np.ones((K,1))*0.5\n",
    "b_vec= np.ones((K,1))*0.5\n",
    "a0 = 0.5\n",
    "b0 = 0.5\n",
    "\n",
    "PHI2,N2,alpha_vec2,a_vec2,b_vec2,objective2 =VI(x,a0,b0,alpha0,a_vec,b_vec,alpha_vec,t)"
   ]
  },
  {
   "cell_type": "code",
   "execution_count": 217,
   "metadata": {},
   "outputs": [],
   "source": [
    "K = 50\n",
    "x = x.reshape((x.shape[0],1))\n",
    "t = 1000\n",
    "\n",
    "alpha_vec = np.ones((K,1))*0.1\n",
    "alpha0 = np.ones((K,1))*0.1\n",
    "a_vec = np.ones((K,1))*0.5\n",
    "b_vec= np.ones((K,1))*0.5\n",
    "a0 = 0.5\n",
    "b0 = 0.5\n",
    "\n",
    "PHI3,N3,alpha_vec3,a_vec3,b_vec3,objective3 =VI(x,a0,b0,alpha0,a_vec,b_vec,alpha_vec,t)"
   ]
  },
  {
   "cell_type": "code",
   "execution_count": 218,
   "metadata": {},
   "outputs": [
    {
     "data": {
      "text/plain": [
       "<matplotlib.legend.Legend at 0x1a22df9160>"
      ]
     },
     "execution_count": 218,
     "metadata": {},
     "output_type": "execute_result"
    },
    {
     "data": {
      "image/png": "[encoded data removed]",
      "text/plain": [
       "<Figure size 432x288 with 1 Axes>"
      ]
     },
     "metadata": {},
     "output_type": "display_data"
    }
   ],
   "source": [
    "plt.plot(range(1,1000),objective1[1:1000],c='r',label = \"K = 3\")\n",
    "plt.plot(range(1,1000),objective2[1:1000],c=\"b\",label = \"K = 15\")\n",
    "plt.plot(range(1,1000),objective3[1:1000],c=\"y\",label = \"K = 50\")\n",
    "plt.xlabel(\"iteration\")\n",
    "plt.ylabel(\"objective value\")\n",
    "plt.title(\"VI Objevtive V.S. iteration\")\n",
    "plt.legend()"
   ]
  },
  {
   "cell_type": "markdown",
   "metadata": {},
   "source": [
    "### c)"
   ]
  },
  {
   "cell_type": "code",
   "execution_count": 222,
   "metadata": {},
   "outputs": [
    {
     "data": {
      "text/plain": [
       "Text(0.5,1,'Clusters v.s. xi, K = 3')"
      ]
     },
     "execution_count": 222,
     "metadata": {},
     "output_type": "execute_result"
    },
    {
     "data": {
      "image/png": "[encoded data removed]",
      "text/plain": [
       "<Figure size 432x288 with 1 Axes>"
      ]
     },
     "metadata": {},
     "output_type": "display_data"
    }
   ],
   "source": [
    "K = 3\n",
    "Clusters1 = [[0 for i in range(K)] for i in range(21)]\n",
    "for j in range(0,21):\n",
    "    for i in range(x.shape[0]):\n",
    "        if int(x[i]) == j:\n",
    "            Clusters1[j][np.argmax(PHI1[i,:])] += 1\n",
    "for i in range(len(Clusters1)):\n",
    "    Clusters1[i] = np.argmax(Clusters1[i])\n",
    "    \n",
    "ax = plt.figure().gca()\n",
    "ax.xaxis.set_major_locator(MaxNLocator(integer=True))\n",
    "ax.yaxis.set_major_locator(MaxNLocator(integer=True))\n",
    "plt.scatter(range(0,21),Clusters1)\n",
    "plt.xlabel(\"xi\")\n",
    "plt.ylabel(\"Clusters\")\n",
    "plt.title(\"Clusters v.s. xi, K = 3\")"
   ]
  },
  {
   "cell_type": "code",
   "execution_count": 229,
   "metadata": {
    "scrolled": true
   },
   "outputs": [
    {
     "data": {
      "text/plain": [
       "Text(0.5,1,'Clusters v.s. xi, K = 15')"
      ]
     },
     "execution_count": 229,
     "metadata": {},
     "output_type": "execute_result"
    },
    {
     "data": {
      "image/png": "[encoded data removed]",
      "text/plain": [
       "<Figure size 432x288 with 1 Axes>"
      ]
     },
     "metadata": {},
     "output_type": "display_data"
    }
   ],
   "source": [
    "K = 15\n",
    "Clusters2 = [[0 for i in range(K)] for i in range(21)]\n",
    "for j in range(0,21):\n",
    "    for i in range(x.shape[0]):\n",
    "        if int(x[i]) == j:\n",
    "            Clusters2[j][np.argmax(PHI2[i,:])] += 1\n",
    "for i in range(len(Clusters2)):\n",
    "    Clusters2[i] = np.argmax(Clusters2[i])\n",
    "ax = plt.figure().gca()\n",
    "ax.xaxis.set_major_locator(MaxNLocator(integer=True))\n",
    "ax.yaxis.set_major_locator(MaxNLocator(integer=True))\n",
    "plt.scatter(range(0,21),Clusters2)\n",
    "plt.xlabel(\"xi\")\n",
    "plt.ylabel(\"Clusters\")\n",
    "plt.title(\"Clusters v.s. xi, K = 15\")"
   ]
  },
  {
   "cell_type": "code",
   "execution_count": 235,
   "metadata": {
    "scrolled": true
   },
   "outputs": [
    {
     "data": {
      "text/plain": [
       "Text(0.5,1,'Clusters v.s. xi, K = 50')"
      ]
     },
     "execution_count": 235,
     "metadata": {},
     "output_type": "execute_result"
    },
    {
     "data": {
      "image/png": "[encoded data removed]",
      "text/plain": [
       "<Figure size 432x288 with 1 Axes>"
      ]
     },
     "metadata": {},
     "output_type": "display_data"
    }
   ],
   "source": [
    "K = 50\n",
    "Clusters3 = [[0 for i in range(K)] for i in range(21)]\n",
    "for j in range(0,21):\n",
    "    for i in range(x.shape[0]):\n",
    "        if int(x[i]) == j:\n",
    "            Clusters3[j][np.argmax(PHI3[i,:])] += 1\n",
    "for i in range(len(Clusters3)):\n",
    "    Clusters3[i] = np.argmax(Clusters3[i])\n",
    "ax = plt.figure().gca()\n",
    "ax.xaxis.set_major_locator(MaxNLocator(integer=True))\n",
    "ax.yaxis.set_major_locator(MaxNLocator(integer=True))\n",
    "plt.scatter(range(0,21),Clusters3)\n",
    "plt.xlabel(\"xi\")\n",
    "plt.ylabel(\"Clusters\")\n",
    "plt.title(\"Clusters v.s. xi, K = 50\")"
   ]
  },
  {
   "cell_type": "markdown",
   "metadata": {},
   "source": [
    "### 3)"
   ]
  },
  {
   "cell_type": "code",
   "execution_count": 258,
   "metadata": {},
   "outputs": [],
   "source": [
    "from scipy.stats import binom\n",
    "from scipy.special import beta\n",
    "from scipy.special import comb\n",
    "from scipy.stats import beta"
   ]
  },
  {
   "cell_type": "code",
   "execution_count": 259,
   "metadata": {},
   "outputs": [],
   "source": [
    "def cal_theta(X, d,a0,b0):\n",
    "    kt = len(d.keys())\n",
    "    theta = np.ones(kt)\n",
    "    a = np.ones(kt)\n",
    "    b = np.ones(kt)\n",
    "    for i in range(kt):\n",
    "        a[i] = np.sum(X[d['c_%d' %i ]['name']]) + a0\n",
    "        b[i] = np.sum(20-X[d['c_%d' %i ]['name']]) +b0\n",
    "    theta = beta.rvs(a, b)\n",
    "    return theta"
   ]
  },
  {
   "cell_type": "code",
   "execution_count": 260,
   "metadata": {},
   "outputs": [],
   "source": [
    "def cal_n(kt, d):\n",
    "    n = []\n",
    "    for i in range(kt):\n",
    "        n.append([len(d['c_%d' %i]['name'])])\n",
    "    n = np.array(n)\n",
    "    \n",
    "    return n"
   ]
  },
  {
   "cell_type": "code",
   "execution_count": 261,
   "metadata": {},
   "outputs": [],
   "source": [
    "def reindex(d):\n",
    "    kt = len(d.keys())\n",
    "    i = 0\n",
    "    while i < kt:\n",
    "        if d['c_%d' %i ]['name'] == []:\n",
    "            d['c_%d' %i ]['name'] = d['c_%d' %(kt-1)]['name']\n",
    "            del d['c_%d' %(kt-1)]\n",
    "            kt = kt-1\n",
    "        i +=1\n",
    "    return d, kt"
   ]
  },
  {
   "cell_type": "code",
   "execution_count": 262,
   "metadata": {},
   "outputs": [],
   "source": [
    "def cal_phi(X, theta, d, alpha, i, kt, N):\n",
    "    n = cal_n(kt, d)   \n",
    "    phi = binom.pmf(k = X[i], n = 20, p = theta)*(n.T)/(alpha+N-1)\n",
    "    phi = phi.flatten()\n",
    "    phi_prime = 0\n",
    "    phi_prime = alpha/(alpha+N-1)/kt*np.sum(binom.pmf(k = X[i], n = 20, p = theta))\n",
    "    phi = np.append(phi,phi_prime)\n",
    "    total = np.sum(phi)\n",
    "    phi = phi/total\n",
    "    \n",
    "    return phi"
   ]
  },
  {
   "cell_type": "code",
   "execution_count": 263,
   "metadata": {},
   "outputs": [],
   "source": [
    "def cal_all_phi(X, theta, d, alpha):\n",
    "    n = []\n",
    "    kt = len(d.keys())\n",
    "    for i in range(kt):\n",
    "        n.append([len(d['c_%d' %i]['name'])])        \n",
    "    phi=[0 for i in range(N) for i in range(kt)]\n",
    "    phi_prime=[0 for i in range(N)]\n",
    "    for i in range(N):\n",
    "        phi[i] = binom.pmf(k = X[i], n = 20, p = theta)*n/(alpha+N-1)\n",
    "        phi_prime[i] = alpha/(alpha+N-1)/kt*np.sum(binom.pmf(k = X[i], n = 20, p = theta))\n",
    "        \n",
    "    return phi,phi_prime"
   ]
  },
  {
   "cell_type": "code",
   "execution_count": 264,
   "metadata": {},
   "outputs": [],
   "source": [
    "def init_clusters(X, N = 2000, num_cluster = 30,a0 = 0.5,b0 = 0.5):\n",
    "    d ={}\n",
    "    for i in range(num_cluster):\n",
    "        d['c_%d' %i ]= {}\n",
    "    for i in range(num_cluster):\n",
    "        d['c_%d' %i ]['name'] = []\n",
    "    rand_assign = np.random.choice(num_cluster, N, p=[1/num_cluster for i in range(30)])\n",
    "    for index, i in enumerate(rand_assign):\n",
    "        d['c_%d' %i ]['name'].append(index)    \n",
    "    theta = cal_theta(X, d,a0,b0)\n",
    "    \n",
    "    return d, theta"
   ]
  },
  {
   "cell_type": "code",
   "execution_count": 265,
   "metadata": {},
   "outputs": [],
   "source": [
    "def add(d, index_add, kt):\n",
    "    d['c_%d' %kt] = {}\n",
    "    d['c_%d' %kt]['name'] = [index_add]\n",
    "    return d"
   ]
  },
  {
   "cell_type": "code",
   "execution_count": 266,
   "metadata": {},
   "outputs": [],
   "source": [
    "def remove(d, index_remove, kt):\n",
    "    for i in range(kt):\n",
    "        if index_remove in d['c_%d' %i ]['name']:\n",
    "            d['c_%d' %i ]['name'].remove(index_remove)\n",
    "    return d"
   ]
  },
  {
   "cell_type": "code",
   "execution_count": 270,
   "metadata": {},
   "outputs": [],
   "source": [
    "def gibbs(T,a0,b0,alpha):\n",
    "    alpha = 3/4\n",
    "    d, theta = init_clusters(X)    \n",
    "    plot = {}\n",
    "    for i in range(6):\n",
    "        plot['mostprobable_%d' %(i+1)]= []    \n",
    "    clusters = []\n",
    "    \n",
    "    for iter in range(T):\n",
    "        clusters.append(len(d.keys()))       \n",
    "        n = cal_n(len(d.keys()), d)\n",
    "        n = n.tolist()\n",
    "        n = np.sort(n, axis = None)\n",
    "        if len(n) > 6:\n",
    "            for i in range(6):\n",
    "                plot['mostprobable_%d' %(i+1)].append((n[-(i+1)]))\n",
    "        else:\n",
    "            for i in range(len(n)):\n",
    "                plot['mostprobable_%d' %(i+1)].append(n[-(i+1)])\n",
    "            for i in range(len(n),6):\n",
    "                plot['mostprobable_%d' %(i+1)].append(0)                \n",
    "        for i in range(N):\n",
    "            d, kt = reindex(d)\n",
    "            d = remove(d, i, kt)\n",
    "            theta = cal_theta(X, d,a0,b0)\n",
    "            phi = cal_phi(X, theta, d, alpha, i, kt, N)\n",
    "            c = np.random.choice(len(phi), p = list(phi))\n",
    "            if c == (len(phi)-1):\n",
    "                d = add(d, i, kt)\n",
    "            else:\n",
    "                d['c_%d'%c]['name'].append(i)\n",
    "    \n",
    "    return clusters, plot"
   ]
  },
  {
   "cell_type": "markdown",
   "metadata": {},
   "source": [
    "### b)"
   ]
  },
  {
   "cell_type": "code",
   "execution_count": 271,
   "metadata": {},
   "outputs": [],
   "source": [
    "X = np.genfromtxt('X.csv')\n",
    "N = X.shape[0]\n",
    "a0 = b0 = 0.5\n",
    "alpha = 0.1\n",
    "T=1000"
   ]
  },
  {
   "cell_type": "code",
   "execution_count": 272,
   "metadata": {},
   "outputs": [],
   "source": [
    "clusters, plot = gibbs(T,a0,b0,alpha)"
   ]
  },
  {
   "cell_type": "code",
   "execution_count": 273,
   "metadata": {},
   "outputs": [
    {
     "data": {
      "image/png": "[encoded data removed]",
      "text/plain": [
       "<Figure size 432x288 with 1 Axes>"
      ]
     },
     "metadata": {},
     "output_type": "display_data"
    }
   ],
   "source": [
    "plt.plot(plot['mostprobable_1'], label = 'mostprobable1')\n",
    "plt.plot(plot['mostprobable_2'], label = 'mostprobable2')\n",
    "plt.plot(plot['mostprobable_3'], label = 'mostprobable3')\n",
    "plt.plot(plot['mostprobable_4'], label = 'mostprobable4')\n",
    "plt.plot(plot['mostprobable_5'], label = 'mostprobable5')\n",
    "plt.plot(plot['mostprobable_6'], label = 'mostprobable6')\n",
    "plt.title(\"most probable clusters vs. iterations\")\n",
    "plt.legend()\n",
    "plt.show()"
   ]
  },
  {
   "cell_type": "markdown",
   "metadata": {},
   "source": [
    "### c)"
   ]
  },
  {
   "cell_type": "code",
   "execution_count": 274,
   "metadata": {},
   "outputs": [
    {
     "data": {
      "text/plain": [
       "Text(0.5,1,'number of clusters vs. iterations')"
      ]
     },
     "execution_count": 274,
     "metadata": {},
     "output_type": "execute_result"
    },
    {
     "data": {
      "image/png": "[encoded data removed]",
      "text/plain": [
       "<Figure size 432x288 with 1 Axes>"
      ]
     },
     "metadata": {},
     "output_type": "display_data"
    }
   ],
   "source": [
    "plt.plot(clusters)\n",
    "plt.title(\"number of clusters vs. iterations\")"
   ]
  }
 ],
 "metadata": {
  "kernelspec": {
   "display_name": "Python 3",
   "language": "python",
   "name": "python3"
  },
  "language_info": {
   "codemirror_mode": {
    "name": "ipython",
    "version": 3
   },
   "file_extension": ".py",
   "mimetype": "text/x-python",
   "name": "python",
   "nbconvert_exporter": "python",
   "pygments_lexer": "ipython3",
   "version": "3.6.5"
  }
 },
 "nbformat": 4,
 "nbformat_minor": 2
}
